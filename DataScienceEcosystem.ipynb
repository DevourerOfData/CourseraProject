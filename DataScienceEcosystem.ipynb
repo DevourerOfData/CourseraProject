{
 "cells": [
  {
   "cell_type": "markdown",
   "id": "a882ce06",
   "metadata": {},
   "source": [
    "# Data Science Tools & Ecosystem"
   ]
  },
  {
   "cell_type": "markdown",
   "id": "0b3db4d2",
   "metadata": {},
   "source": [
    "## In this Notebook, Data Science Tools & Ecosystems are summarized."
   ]
  },
  {
   "cell_type": "markdown",
   "id": "1aa76713",
   "metadata": {},
   "source": [
    "### __Objectives:__\n",
    "- List popular languages for Data Science.\n",
    "- List commonly used libraries for Data Science.\n",
    "- Make a few examples of some arithmetic expressions in Python."
   ]
  },
  {
   "cell_type": "markdown",
   "id": "8ebacbdf",
   "metadata": {},
   "source": [
    "### Some of the popular languages that Data Scientists use are:\n",
    "1. Python\n",
    "2. R\n",
    "3. Scala\n"
   ]
  },
  {
   "cell_type": "markdown",
   "id": "56774339",
   "metadata": {},
   "source": [
    "### Some of the commonly used libraries used by Data Scientist include:\n",
    "1. TensorFlow\n",
    "2. NumPy\n",
    "3. SciPy\n",
    "4. Pandas"
   ]
  },
  {
   "cell_type": "markdown",
   "id": "b86c3e9f",
   "metadata": {},
   "source": [
    "| Data Science Tools |\n",
    "| ------------------ |\n",
    "| Rstudio |\n",
    "| ApacheSpark |\n",
    "| TensorFlow |"
   ]
  },
  {
   "cell_type": "markdown",
   "id": "1f665dbf",
   "metadata": {},
   "source": [
    "### Below are a few examples of evaluating arithmetic expressions in Python:\n"
   ]
  },
  {
   "cell_type": "code",
   "execution_count": 1,
   "id": "df23858a",
   "metadata": {},
   "outputs": [
    {
     "data": {
      "text/plain": [
       "17"
      ]
     },
     "execution_count": 1,
     "metadata": {},
     "output_type": "execute_result"
    }
   ],
   "source": [
    "(3*4)+5\n",
    "# This a simple arithmetic expression to mutiply then add integers."
   ]
  },
  {
   "cell_type": "code",
   "execution_count": 2,
   "id": "89eb499d",
   "metadata": {},
   "outputs": [
    {
     "data": {
      "text/plain": [
       "3.3333333333333335"
      ]
     },
     "execution_count": 2,
     "metadata": {},
     "output_type": "execute_result"
    }
   ],
   "source": [
    "200/60\n",
    "# This will convert 200 minutes to hours by diving by 60."
   ]
  },
  {
   "cell_type": "markdown",
   "id": "ea296edb",
   "metadata": {},
   "source": [
    "## Author:\n",
    "Arsham Chamani"
   ]
  }
 ],
 "metadata": {
  "kernelspec": {
   "display_name": "Python 3 (ipykernel)",
   "language": "python",
   "name": "python3"
  },
  "language_info": {
   "codemirror_mode": {
    "name": "ipython",
    "version": 3
   },
   "file_extension": ".py",
   "mimetype": "text/x-python",
   "name": "python",
   "nbconvert_exporter": "python",
   "pygments_lexer": "ipython3",
   "version": "3.11.3"
  }
 },
 "nbformat": 4,
 "nbformat_minor": 5
}
